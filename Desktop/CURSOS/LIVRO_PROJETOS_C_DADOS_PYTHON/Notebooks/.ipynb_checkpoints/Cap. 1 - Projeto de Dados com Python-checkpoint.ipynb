{
 "cells": [
  {
   "cell_type": "markdown",
   "id": "77f4fc67-4beb-4f9a-acdd-ad7840319690",
   "metadata": {},
   "source": [
    "# Esse projeto visa estudar utilizando como base o livro \"Projetos de Ciência de Dados com Python\""
   ]
  },
  {
   "cell_type": "code",
   "execution_count": 1,
   "id": "e351413b-642a-406b-b2af-99f38f3292c5",
   "metadata": {},
   "outputs": [],
   "source": [
    "## bibliotecas iniciais\n",
    "\n",
    "import pandas as pd\n",
    "import numpy as np"
   ]
  },
  {
   "cell_type": "code",
   "execution_count": 9,
   "id": "2bab49af-e545-4988-9464-fa9ffe779fb4",
   "metadata": {},
   "outputs": [
    {
     "name": "stdout",
     "output_type": "stream",
     "text": [
      "O dataset contém 30000 linhas e 25 colunas\n"
     ]
    },
    {
     "data": {
      "text/html": [
       "<div>\n",
       "<style scoped>\n",
       "    .dataframe tbody tr th:only-of-type {\n",
       "        vertical-align: middle;\n",
       "    }\n",
       "\n",
       "    .dataframe tbody tr th {\n",
       "        vertical-align: top;\n",
       "    }\n",
       "\n",
       "    .dataframe thead th {\n",
       "        text-align: right;\n",
       "    }\n",
       "</style>\n",
       "<table border=\"1\" class=\"dataframe\">\n",
       "  <thead>\n",
       "    <tr style=\"text-align: right;\">\n",
       "      <th></th>\n",
       "      <th>ID</th>\n",
       "      <th>LIMIT_BAL</th>\n",
       "      <th>SEX</th>\n",
       "      <th>EDUCATION</th>\n",
       "      <th>MARRIAGE</th>\n",
       "      <th>AGE</th>\n",
       "      <th>PAY_1</th>\n",
       "      <th>PAY_2</th>\n",
       "      <th>PAY_3</th>\n",
       "      <th>PAY_4</th>\n",
       "      <th>...</th>\n",
       "      <th>BILL_AMT4</th>\n",
       "      <th>BILL_AMT5</th>\n",
       "      <th>BILL_AMT6</th>\n",
       "      <th>PAY_AMT1</th>\n",
       "      <th>PAY_AMT2</th>\n",
       "      <th>PAY_AMT3</th>\n",
       "      <th>PAY_AMT4</th>\n",
       "      <th>PAY_AMT5</th>\n",
       "      <th>PAY_AMT6</th>\n",
       "      <th>default payment next month</th>\n",
       "    </tr>\n",
       "  </thead>\n",
       "  <tbody>\n",
       "    <tr>\n",
       "      <th>0</th>\n",
       "      <td>798fc410-45c1</td>\n",
       "      <td>20000</td>\n",
       "      <td>2</td>\n",
       "      <td>2</td>\n",
       "      <td>1</td>\n",
       "      <td>24</td>\n",
       "      <td>2</td>\n",
       "      <td>2</td>\n",
       "      <td>-1</td>\n",
       "      <td>-1</td>\n",
       "      <td>...</td>\n",
       "      <td>0</td>\n",
       "      <td>0</td>\n",
       "      <td>0</td>\n",
       "      <td>0</td>\n",
       "      <td>689</td>\n",
       "      <td>0</td>\n",
       "      <td>0</td>\n",
       "      <td>0</td>\n",
       "      <td>0</td>\n",
       "      <td>1</td>\n",
       "    </tr>\n",
       "    <tr>\n",
       "      <th>1</th>\n",
       "      <td>8a8c8f3b-8eb4</td>\n",
       "      <td>120000</td>\n",
       "      <td>2</td>\n",
       "      <td>2</td>\n",
       "      <td>2</td>\n",
       "      <td>26</td>\n",
       "      <td>-1</td>\n",
       "      <td>2</td>\n",
       "      <td>0</td>\n",
       "      <td>0</td>\n",
       "      <td>...</td>\n",
       "      <td>3272</td>\n",
       "      <td>3455</td>\n",
       "      <td>3261</td>\n",
       "      <td>0</td>\n",
       "      <td>1000</td>\n",
       "      <td>1000</td>\n",
       "      <td>1000</td>\n",
       "      <td>0</td>\n",
       "      <td>2000</td>\n",
       "      <td>1</td>\n",
       "    </tr>\n",
       "    <tr>\n",
       "      <th>2</th>\n",
       "      <td>85698822-43f5</td>\n",
       "      <td>90000</td>\n",
       "      <td>2</td>\n",
       "      <td>2</td>\n",
       "      <td>2</td>\n",
       "      <td>34</td>\n",
       "      <td>0</td>\n",
       "      <td>0</td>\n",
       "      <td>0</td>\n",
       "      <td>0</td>\n",
       "      <td>...</td>\n",
       "      <td>14331</td>\n",
       "      <td>14948</td>\n",
       "      <td>15549</td>\n",
       "      <td>1518</td>\n",
       "      <td>1500</td>\n",
       "      <td>1000</td>\n",
       "      <td>1000</td>\n",
       "      <td>1000</td>\n",
       "      <td>5000</td>\n",
       "      <td>0</td>\n",
       "    </tr>\n",
       "    <tr>\n",
       "      <th>3</th>\n",
       "      <td>0737c11b-be42</td>\n",
       "      <td>50000</td>\n",
       "      <td>2</td>\n",
       "      <td>2</td>\n",
       "      <td>1</td>\n",
       "      <td>37</td>\n",
       "      <td>0</td>\n",
       "      <td>0</td>\n",
       "      <td>0</td>\n",
       "      <td>0</td>\n",
       "      <td>...</td>\n",
       "      <td>28314</td>\n",
       "      <td>28959</td>\n",
       "      <td>29547</td>\n",
       "      <td>2000</td>\n",
       "      <td>2019</td>\n",
       "      <td>1200</td>\n",
       "      <td>1100</td>\n",
       "      <td>1069</td>\n",
       "      <td>1000</td>\n",
       "      <td>0</td>\n",
       "    </tr>\n",
       "    <tr>\n",
       "      <th>4</th>\n",
       "      <td>3b7f77cc-dbc0</td>\n",
       "      <td>50000</td>\n",
       "      <td>1</td>\n",
       "      <td>2</td>\n",
       "      <td>1</td>\n",
       "      <td>57</td>\n",
       "      <td>-1</td>\n",
       "      <td>0</td>\n",
       "      <td>-1</td>\n",
       "      <td>0</td>\n",
       "      <td>...</td>\n",
       "      <td>20940</td>\n",
       "      <td>19146</td>\n",
       "      <td>19131</td>\n",
       "      <td>2000</td>\n",
       "      <td>36681</td>\n",
       "      <td>10000</td>\n",
       "      <td>9000</td>\n",
       "      <td>689</td>\n",
       "      <td>679</td>\n",
       "      <td>0</td>\n",
       "    </tr>\n",
       "  </tbody>\n",
       "</table>\n",
       "<p>5 rows × 25 columns</p>\n",
       "</div>"
      ],
      "text/plain": [
       "              ID  LIMIT_BAL  SEX  EDUCATION  MARRIAGE  AGE PAY_1  PAY_2  \\\n",
       "0  798fc410-45c1      20000    2          2         1   24     2      2   \n",
       "1  8a8c8f3b-8eb4     120000    2          2         2   26    -1      2   \n",
       "2  85698822-43f5      90000    2          2         2   34     0      0   \n",
       "3  0737c11b-be42      50000    2          2         1   37     0      0   \n",
       "4  3b7f77cc-dbc0      50000    1          2         1   57    -1      0   \n",
       "\n",
       "   PAY_3  PAY_4  ...  BILL_AMT4  BILL_AMT5  BILL_AMT6  PAY_AMT1  PAY_AMT2  \\\n",
       "0     -1     -1  ...          0          0          0         0       689   \n",
       "1      0      0  ...       3272       3455       3261         0      1000   \n",
       "2      0      0  ...      14331      14948      15549      1518      1500   \n",
       "3      0      0  ...      28314      28959      29547      2000      2019   \n",
       "4     -1      0  ...      20940      19146      19131      2000     36681   \n",
       "\n",
       "   PAY_AMT3  PAY_AMT4  PAY_AMT5  PAY_AMT6  default payment next month  \n",
       "0         0         0         0         0                           1  \n",
       "1      1000      1000         0      2000                           1  \n",
       "2      1000      1000      1000      5000                           0  \n",
       "3      1200      1100      1069      1000                           0  \n",
       "4     10000      9000       689       679                           0  \n",
       "\n",
       "[5 rows x 25 columns]"
      ]
     },
     "execution_count": 9,
     "metadata": {},
     "output_type": "execute_result"
    }
   ],
   "source": [
    "## leitura dos dados\n",
    "\n",
    "dados = pd.read_excel(r\"C:\\Users\\pasch\\Desktop\\CURSOS\\LIVRO_PROJETOS_C_DADOS_PYTHON\\Projeto\\default_of_credit_card_clients__courseware_version_1_21_19.xls\")\n",
    "\n",
    "print(f'O dataset contém {dados.shape[0]} linhas e {dados.shape[1]} colunas')\n",
    "dados.head()"
   ]
  },
  {
   "cell_type": "markdown",
   "id": "cd0450c8-efdc-41e9-8e15-656925ccd10b",
   "metadata": {},
   "source": [
    "## Dicionário dos Dados"
   ]
  },
  {
   "cell_type": "raw",
   "id": "93529b38-6881-4078-8e61-b3aef208ef5d",
   "metadata": {},
   "source": [
    "Nome Variável\t  Papel\t            Tipo\t    Demográfico\t           Descrição\tUnidades\t   Valores Perdidos\n",
    "ID\t              ID\t            Inteiro\t\t\t\t                                                 não\n",
    "X1\t              Característica\tInteiro\t\t                       LIMIT_BAL\t              \t     não\n",
    "X2\t              Característica\tInteiro\t    Sexo\t               SEXO\t\t                         não\n",
    "X3\t              Característica\tInteiro\t    Nível de Educação      EDUCAÇÃO\t\t                     não\n",
    "X4\t              Característica\tInteiro\t    Estado Civil\t       CASAMENTO\t                     não\n",
    "X5\t              Característica\tInteiro\t    Idade\t               IDADE\t\t                     não\n",
    "X6\t              Característica\tInteiro\t\t                       PAY_0\t\t                     não\n",
    "X7\t              Característica\tInteiro\t\t                       PAY_2\t\t                     não\n",
    "X8\t              Característica\tInteiro\t\t                       PAY_3\t\t                     não\n",
    "X9\t              Característica\tInteiro\t\t                       PAY_4\t\t                     não\n",
    "X10\t              Característica\tInteiro\t\t                       PAY_5\t\t                     não\n",
    "X11\t              Característica\tInteiro\t\t                       PAY_6\t\t                     não\n",
    "X12\t              Característica\tInteiro\t\t                       BILL_AMT1\t                     não\n",
    "X13\t              Característica\tInteiro\t\t                       BILL_AMT2\t               \t     não\n",
    "X14\t              Característica\tInteiro\t\t                       BILL_AMT3\t               \t     não\n",
    "X15\t              Característica\tInteiro\t\t                       BILL_AMT4\t               \t     não\n",
    "X16\t              Característica\tInteiro\t\t                       BILL_AMT5\t               \t     não\n",
    "X17\t              Característica\tInteiro\t\t                       BILL_AMT6\t               \t     não\n",
    "X18\t              Característica\tInteiro\t\t                       PAY_AMT1\t\t                     não\n",
    "X19\t              Característica\tInteiro\t\t                       PAY_AMT2\t\t                     não\n",
    "X20\t              Característica\tInteiro\t\t                       PAY_AMT3\t\t                     não\n",
    "X21\t              Característica\tInteiro\t\t                       PAY_AMT4\t\t                     não\n",
    "X22\t              Característica\tInteiro\t\t                       PAY_AMT5\t\t                     não\n",
    "X23\t              Característica\tInteiro\t\t                       PAY_AMT6\t\t                     não\n",
    "Y\t              Alvo\t            Binário\t\t                       pagamento padrão no próximo mês   não"
   ]
  },
  {
   "cell_type": "markdown",
   "id": "0f3ececc-d1f6-402d-b719-70aee16c7868",
   "metadata": {},
   "source": [
    "### Checando ID's únicos"
   ]
  },
  {
   "cell_type": "code",
   "execution_count": 10,
   "id": "4efda583-93f8-4c85-a873-3111d3b361e9",
   "metadata": {},
   "outputs": [
    {
     "data": {
      "text/plain": [
       "29687"
      ]
     },
     "execution_count": 10,
     "metadata": {},
     "output_type": "execute_result"
    }
   ],
   "source": [
    "dados['ID'].nunique()"
   ]
  },
  {
   "cell_type": "markdown",
   "id": "e68f5345-b43c-4c50-9113-98141bb82eb6",
   "metadata": {},
   "source": [
    "Ou seja, de 30.000 linhas, temos 29.687 ID's únicos, temos então ID's que se repetem."
   ]
  },
  {
   "cell_type": "code",
   "execution_count": 12,
   "id": "c54c1514-442c-42f6-9dd0-9596da642bee",
   "metadata": {},
   "outputs": [
    {
     "data": {
      "text/plain": [
       "count\n",
       "1    29374\n",
       "2      313\n",
       "Name: count, dtype: int64"
      ]
     },
     "execution_count": 12,
     "metadata": {},
     "output_type": "execute_result"
    }
   ],
   "source": [
    "duplicados = dados['ID'].value_counts()\n",
    "\n",
    "duplicados.value_counts()"
   ]
  },
  {
   "cell_type": "markdown",
   "id": "3a481142-6d2b-4fa8-a5b1-8e262ebc907a",
   "metadata": {},
   "source": [
    "### Verificando a integridade com Máscaras Booleanas"
   ]
  },
  {
   "cell_type": "code",
   "execution_count": 13,
   "id": "8d05e1bd-ae58-418e-a1d7-2d2aa34333e2",
   "metadata": {},
   "outputs": [
    {
     "data": {
      "text/plain": [
       "ID\n",
       "ad23fe5c-7b09    True\n",
       "1fb3e3e6-a68d    True\n",
       "89f8f447-fca8    True\n",
       "7c9b7473-cc2f    True\n",
       "90330d02-82d9    True\n",
       "Name: count, dtype: bool"
      ]
     },
     "execution_count": 13,
     "metadata": {},
     "output_type": "execute_result"
    }
   ],
   "source": [
    "dupe_mask = duplicados == 2\n",
    "\n",
    "dupe_mask[:5]"
   ]
  },
  {
   "cell_type": "code",
   "execution_count": 15,
   "id": "b50a7a6e-0f04-46a1-a4fe-34624270062b",
   "metadata": {},
   "outputs": [
    {
     "data": {
      "text/plain": [
       "313"
      ]
     },
     "execution_count": 15,
     "metadata": {},
     "output_type": "execute_result"
    }
   ],
   "source": [
    "dupe_ids = duplicados.index[dupe_mask]\n",
    "\n",
    "dupe_ids = list(dupe_ids)\n",
    "len(dupe_ids)"
   ]
  },
  {
   "cell_type": "markdown",
   "id": "a5f2a7a6-4a1c-4697-855b-9664e450f468",
   "metadata": {},
   "source": [
    "### Checando mais a fundo as duplicadas"
   ]
  },
  {
   "cell_type": "code",
   "execution_count": 19,
   "id": "44e7aa59-848a-4f97-8686-671a5b094562",
   "metadata": {},
   "outputs": [
    {
     "data": {
      "text/html": [
       "<div>\n",
       "<style scoped>\n",
       "    .dataframe tbody tr th:only-of-type {\n",
       "        vertical-align: middle;\n",
       "    }\n",
       "\n",
       "    .dataframe tbody tr th {\n",
       "        vertical-align: top;\n",
       "    }\n",
       "\n",
       "    .dataframe thead th {\n",
       "        text-align: right;\n",
       "    }\n",
       "</style>\n",
       "<table border=\"1\" class=\"dataframe\">\n",
       "  <thead>\n",
       "    <tr style=\"text-align: right;\">\n",
       "      <th></th>\n",
       "      <th>ID</th>\n",
       "      <th>LIMIT_BAL</th>\n",
       "      <th>SEX</th>\n",
       "      <th>EDUCATION</th>\n",
       "      <th>MARRIAGE</th>\n",
       "      <th>AGE</th>\n",
       "      <th>PAY_1</th>\n",
       "      <th>PAY_2</th>\n",
       "      <th>PAY_3</th>\n",
       "      <th>PAY_4</th>\n",
       "      <th>...</th>\n",
       "      <th>BILL_AMT4</th>\n",
       "      <th>BILL_AMT5</th>\n",
       "      <th>BILL_AMT6</th>\n",
       "      <th>PAY_AMT1</th>\n",
       "      <th>PAY_AMT2</th>\n",
       "      <th>PAY_AMT3</th>\n",
       "      <th>PAY_AMT4</th>\n",
       "      <th>PAY_AMT5</th>\n",
       "      <th>PAY_AMT6</th>\n",
       "      <th>default payment next month</th>\n",
       "    </tr>\n",
       "  </thead>\n",
       "  <tbody>\n",
       "    <tr>\n",
       "      <th>5033</th>\n",
       "      <td>89f8f447-fca8</td>\n",
       "      <td>320000</td>\n",
       "      <td>2</td>\n",
       "      <td>2</td>\n",
       "      <td>1</td>\n",
       "      <td>32</td>\n",
       "      <td>0</td>\n",
       "      <td>0</td>\n",
       "      <td>0</td>\n",
       "      <td>0</td>\n",
       "      <td>...</td>\n",
       "      <td>169371</td>\n",
       "      <td>172868</td>\n",
       "      <td>150827</td>\n",
       "      <td>8000</td>\n",
       "      <td>8000</td>\n",
       "      <td>5500</td>\n",
       "      <td>6100</td>\n",
       "      <td>6000</td>\n",
       "      <td>5000</td>\n",
       "      <td>0</td>\n",
       "    </tr>\n",
       "    <tr>\n",
       "      <th>5133</th>\n",
       "      <td>89f8f447-fca8</td>\n",
       "      <td>0</td>\n",
       "      <td>0</td>\n",
       "      <td>0</td>\n",
       "      <td>0</td>\n",
       "      <td>0</td>\n",
       "      <td>0</td>\n",
       "      <td>0</td>\n",
       "      <td>0</td>\n",
       "      <td>0</td>\n",
       "      <td>...</td>\n",
       "      <td>0</td>\n",
       "      <td>0</td>\n",
       "      <td>0</td>\n",
       "      <td>0</td>\n",
       "      <td>0</td>\n",
       "      <td>0</td>\n",
       "      <td>0</td>\n",
       "      <td>0</td>\n",
       "      <td>0</td>\n",
       "      <td>0</td>\n",
       "    </tr>\n",
       "    <tr>\n",
       "      <th>16727</th>\n",
       "      <td>1fb3e3e6-a68d</td>\n",
       "      <td>80000</td>\n",
       "      <td>1</td>\n",
       "      <td>2</td>\n",
       "      <td>2</td>\n",
       "      <td>33</td>\n",
       "      <td>2</td>\n",
       "      <td>2</td>\n",
       "      <td>0</td>\n",
       "      <td>0</td>\n",
       "      <td>...</td>\n",
       "      <td>27394</td>\n",
       "      <td>29922</td>\n",
       "      <td>31879</td>\n",
       "      <td>0</td>\n",
       "      <td>2000</td>\n",
       "      <td>2000</td>\n",
       "      <td>3000</td>\n",
       "      <td>2600</td>\n",
       "      <td>0</td>\n",
       "      <td>1</td>\n",
       "    </tr>\n",
       "    <tr>\n",
       "      <th>16827</th>\n",
       "      <td>1fb3e3e6-a68d</td>\n",
       "      <td>0</td>\n",
       "      <td>0</td>\n",
       "      <td>0</td>\n",
       "      <td>0</td>\n",
       "      <td>0</td>\n",
       "      <td>0</td>\n",
       "      <td>0</td>\n",
       "      <td>0</td>\n",
       "      <td>0</td>\n",
       "      <td>...</td>\n",
       "      <td>0</td>\n",
       "      <td>0</td>\n",
       "      <td>0</td>\n",
       "      <td>0</td>\n",
       "      <td>0</td>\n",
       "      <td>0</td>\n",
       "      <td>0</td>\n",
       "      <td>0</td>\n",
       "      <td>0</td>\n",
       "      <td>0</td>\n",
       "    </tr>\n",
       "    <tr>\n",
       "      <th>29685</th>\n",
       "      <td>ad23fe5c-7b09</td>\n",
       "      <td>50000</td>\n",
       "      <td>1</td>\n",
       "      <td>3</td>\n",
       "      <td>1</td>\n",
       "      <td>32</td>\n",
       "      <td>0</td>\n",
       "      <td>0</td>\n",
       "      <td>0</td>\n",
       "      <td>0</td>\n",
       "      <td>...</td>\n",
       "      <td>12882</td>\n",
       "      <td>8131</td>\n",
       "      <td>3983</td>\n",
       "      <td>3000</td>\n",
       "      <td>2871</td>\n",
       "      <td>1000</td>\n",
       "      <td>163</td>\n",
       "      <td>3983</td>\n",
       "      <td>3771</td>\n",
       "      <td>1</td>\n",
       "    </tr>\n",
       "  </tbody>\n",
       "</table>\n",
       "<p>5 rows × 25 columns</p>\n",
       "</div>"
      ],
      "text/plain": [
       "                  ID  LIMIT_BAL  SEX  EDUCATION  MARRIAGE  AGE PAY_1  PAY_2  \\\n",
       "5033   89f8f447-fca8     320000    2          2         1   32     0      0   \n",
       "5133   89f8f447-fca8          0    0          0         0    0     0      0   \n",
       "16727  1fb3e3e6-a68d      80000    1          2         2   33     2      2   \n",
       "16827  1fb3e3e6-a68d          0    0          0         0    0     0      0   \n",
       "29685  ad23fe5c-7b09      50000    1          3         1   32     0      0   \n",
       "\n",
       "       PAY_3  PAY_4  ...  BILL_AMT4  BILL_AMT5  BILL_AMT6  PAY_AMT1  PAY_AMT2  \\\n",
       "5033       0      0  ...     169371     172868     150827      8000      8000   \n",
       "5133       0      0  ...          0          0          0         0         0   \n",
       "16727      0      0  ...      27394      29922      31879         0      2000   \n",
       "16827      0      0  ...          0          0          0         0         0   \n",
       "29685      0      0  ...      12882       8131       3983      3000      2871   \n",
       "\n",
       "       PAY_AMT3  PAY_AMT4  PAY_AMT5  PAY_AMT6  default payment next month  \n",
       "5033       5500      6100      6000      5000                           0  \n",
       "5133          0         0         0         0                           0  \n",
       "16727      2000      3000      2600         0                           1  \n",
       "16827         0         0         0         0                           0  \n",
       "29685      1000       163      3983      3771                           1  \n",
       "\n",
       "[5 rows x 25 columns]"
      ]
     },
     "execution_count": 19,
     "metadata": {},
     "output_type": "execute_result"
    }
   ],
   "source": [
    "dados.loc[dados['ID'].isin(dupe_ids[0:3]),:].head()"
   ]
  },
  {
   "cell_type": "markdown",
   "id": "1b4fd99b-100e-4f39-809d-865febbcf5cf",
   "metadata": {},
   "source": [
    "Ou seja, olhando dentro do dataset geral e procurando apenas os 3 primeiros dados com ID's duplicados, já conseguimos verificar que ocorre algum problema, há dados com linhas contendo apenas 0."
   ]
  },
  {
   "cell_type": "markdown",
   "id": "fb933bc3-bb1b-4c2b-ad5e-80eabf854288",
   "metadata": {},
   "source": [
    "### Criando uma segunda Máscara Booleana - Dataset"
   ]
  },
  {
   "cell_type": "code",
   "execution_count": 20,
   "id": "cfa44506-0306-4aaf-a511-7b13c14f92e5",
   "metadata": {},
   "outputs": [],
   "source": [
    "dados_mask_zero = dados == 0"
   ]
  },
  {
   "cell_type": "code",
   "execution_count": 21,
   "id": "42fcc3c2-92ba-4290-9ca0-ab560a952555",
   "metadata": {},
   "outputs": [
    {
     "data": {
      "text/plain": [
       "315"
      ]
     },
     "execution_count": 21,
     "metadata": {},
     "output_type": "execute_result"
    }
   ],
   "source": [
    "feature_zero_mask = dados_mask_zero.iloc[:,1:].all(axis=1)\n",
    "\n",
    "sum(feature_zero_mask)"
   ]
  },
  {
   "cell_type": "markdown",
   "id": "9a6d2701-b9b7-41c9-a677-8e296cedf045",
   "metadata": {},
   "source": [
    "### Excluindo as duplicadas"
   ]
  },
  {
   "cell_type": "code",
   "execution_count": 23,
   "id": "1cb901a5-e002-4346-be6c-f102122d4f39",
   "metadata": {},
   "outputs": [
    {
     "data": {
      "text/plain": [
       "(29685, 25)"
      ]
     },
     "execution_count": 23,
     "metadata": {},
     "output_type": "execute_result"
    }
   ],
   "source": [
    "df_clean_1 = dados.loc[~feature_zero_mask,:].copy()\n",
    "\n",
    "df_clean_1.shape"
   ]
  },
  {
   "cell_type": "code",
   "execution_count": 25,
   "id": "25e51049-abb7-4823-aa20-3876a3b639a1",
   "metadata": {},
   "outputs": [
    {
     "data": {
      "text/plain": [
       "29685"
      ]
     },
     "execution_count": 25,
     "metadata": {},
     "output_type": "execute_result"
    }
   ],
   "source": [
    "## checando se ficamos apenas com dados únicos\n",
    "\n",
    "df_clean_1['ID'].nunique()"
   ]
  },
  {
   "cell_type": "code",
   "execution_count": null,
   "id": "fdf6c46a-128d-495d-9e7b-a17d0ec83e25",
   "metadata": {},
   "outputs": [],
   "source": []
  },
  {
   "cell_type": "code",
   "execution_count": null,
   "id": "bdf24300-ee66-4a8f-bd90-dc97676f3e3a",
   "metadata": {},
   "outputs": [],
   "source": []
  },
  {
   "cell_type": "code",
   "execution_count": null,
   "id": "c78db64a-1283-4b07-a0cb-f26ef007f4a0",
   "metadata": {},
   "outputs": [],
   "source": []
  },
  {
   "cell_type": "code",
   "execution_count": null,
   "id": "aa173848-bae6-4f16-b690-efff4f08f37e",
   "metadata": {},
   "outputs": [],
   "source": []
  },
  {
   "cell_type": "code",
   "execution_count": null,
   "id": "7f7b5890-0cde-4c9a-ae52-30d890f37d79",
   "metadata": {},
   "outputs": [],
   "source": []
  },
  {
   "cell_type": "code",
   "execution_count": null,
   "id": "ac98e426-2fb2-444e-bddb-95f4d7bb2f08",
   "metadata": {},
   "outputs": [],
   "source": []
  }
 ],
 "metadata": {
  "kernelspec": {
   "display_name": "Python 3 (ipykernel)",
   "language": "python",
   "name": "python3"
  },
  "language_info": {
   "codemirror_mode": {
    "name": "ipython",
    "version": 3
   },
   "file_extension": ".py",
   "mimetype": "text/x-python",
   "name": "python",
   "nbconvert_exporter": "python",
   "pygments_lexer": "ipython3",
   "version": "3.8.18"
  }
 },
 "nbformat": 4,
 "nbformat_minor": 5
}
