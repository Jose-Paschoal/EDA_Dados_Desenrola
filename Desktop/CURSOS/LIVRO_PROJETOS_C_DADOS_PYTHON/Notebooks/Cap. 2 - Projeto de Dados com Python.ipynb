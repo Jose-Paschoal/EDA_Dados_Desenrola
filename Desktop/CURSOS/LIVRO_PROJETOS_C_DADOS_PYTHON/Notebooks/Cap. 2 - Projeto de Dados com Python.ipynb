{
 "cells": [
  {
   "cell_type": "markdown",
   "id": "a2809080-df0f-4dac-a877-18a0c97a7b7d",
   "metadata": {},
   "source": [
    "# 2° Capítulo do livro \"Projetos de Ciência de Dados com Python\" - Scikit-Learn"
   ]
  },
  {
   "cell_type": "code",
   "execution_count": null,
   "id": "cacc0b61-95f7-486e-bdff-46d40e781570",
   "metadata": {},
   "outputs": [],
   "source": []
  },
  {
   "cell_type": "code",
   "execution_count": null,
   "id": "b6926d56-3b15-4525-bcfc-c5c0b75e57ac",
   "metadata": {},
   "outputs": [],
   "source": []
  },
  {
   "cell_type": "code",
   "execution_count": null,
   "id": "ab112869-1377-408b-ac5c-1e739dbc0455",
   "metadata": {},
   "outputs": [],
   "source": []
  },
  {
   "cell_type": "code",
   "execution_count": null,
   "id": "073bc8c3-538f-4733-9b1c-6cfa0653ce1a",
   "metadata": {},
   "outputs": [],
   "source": []
  },
  {
   "cell_type": "code",
   "execution_count": null,
   "id": "3369027e-1c4b-42a1-a97e-fdfbdaa0e912",
   "metadata": {},
   "outputs": [],
   "source": []
  }
 ],
 "metadata": {
  "kernelspec": {
   "display_name": "Python 3 (ipykernel)",
   "language": "python",
   "name": "python3"
  },
  "language_info": {
   "codemirror_mode": {
    "name": "ipython",
    "version": 3
   },
   "file_extension": ".py",
   "mimetype": "text/x-python",
   "name": "python",
   "nbconvert_exporter": "python",
   "pygments_lexer": "ipython3",
   "version": "3.8.18"
  }
 },
 "nbformat": 4,
 "nbformat_minor": 5
}
